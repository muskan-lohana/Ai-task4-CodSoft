{
  "nbformat": 4,
  "nbformat_minor": 0,
  "metadata": {
    "colab": {
      "provenance": []
    },
    "kernelspec": {
      "name": "python3",
      "display_name": "Python 3"
    },
    "language_info": {
      "name": "python"
    }
  },
  "cells": [
    {
      "cell_type": "code",
      "execution_count": 2,
      "metadata": {
        "colab": {
          "base_uri": "https://localhost:8080/"
        },
        "id": "cWnp5LuCB1Sm",
        "outputId": "8433449f-a06f-46ff-d51a-2411c7ba66d1"
      },
      "outputs": [
        {
          "output_type": "stream",
          "name": "stdout",
          "text": [
            "Collecting lightfm\n",
            "  Downloading lightfm-1.17.tar.gz (316 kB)\n",
            "\u001b[?25l     \u001b[90m━━━━━━━━━━━━━━━━━━━━━━━━━━━━━━━━━━━━━━━━\u001b[0m \u001b[32m0.0/316.4 kB\u001b[0m \u001b[31m?\u001b[0m eta \u001b[36m-:--:--\u001b[0m\r\u001b[2K     \u001b[91m━━━━━━━━━━\u001b[0m\u001b[90m╺\u001b[0m\u001b[90m━━━━━━━━━━━━━━━━━━━━━━━━━━━━━\u001b[0m \u001b[32m81.9/316.4 kB\u001b[0m \u001b[31m2.4 MB/s\u001b[0m eta \u001b[36m0:00:01\u001b[0m\r\u001b[2K     \u001b[90m━━━━━━━━━━━━━━━━━━━━━━━━━━━━━━━━━━━━━━━━\u001b[0m \u001b[32m316.4/316.4 kB\u001b[0m \u001b[31m5.9 MB/s\u001b[0m eta \u001b[36m0:00:00\u001b[0m\n",
            "\u001b[?25h  Preparing metadata (setup.py) ... \u001b[?25l\u001b[?25hdone\n",
            "Requirement already satisfied: numpy in /usr/local/lib/python3.10/dist-packages (from lightfm) (1.23.5)\n",
            "Requirement already satisfied: scipy>=0.17.0 in /usr/local/lib/python3.10/dist-packages (from lightfm) (1.11.3)\n",
            "Requirement already satisfied: requests in /usr/local/lib/python3.10/dist-packages (from lightfm) (2.31.0)\n",
            "Requirement already satisfied: scikit-learn in /usr/local/lib/python3.10/dist-packages (from lightfm) (1.2.2)\n",
            "Requirement already satisfied: charset-normalizer<4,>=2 in /usr/local/lib/python3.10/dist-packages (from requests->lightfm) (3.3.2)\n",
            "Requirement already satisfied: idna<4,>=2.5 in /usr/local/lib/python3.10/dist-packages (from requests->lightfm) (3.4)\n",
            "Requirement already satisfied: urllib3<3,>=1.21.1 in /usr/local/lib/python3.10/dist-packages (from requests->lightfm) (2.0.7)\n",
            "Requirement already satisfied: certifi>=2017.4.17 in /usr/local/lib/python3.10/dist-packages (from requests->lightfm) (2023.7.22)\n",
            "Requirement already satisfied: joblib>=1.1.1 in /usr/local/lib/python3.10/dist-packages (from scikit-learn->lightfm) (1.3.2)\n",
            "Requirement already satisfied: threadpoolctl>=2.0.0 in /usr/local/lib/python3.10/dist-packages (from scikit-learn->lightfm) (3.2.0)\n",
            "Building wheels for collected packages: lightfm\n",
            "  Building wheel for lightfm (setup.py) ... \u001b[?25l\u001b[?25hdone\n",
            "  Created wheel for lightfm: filename=lightfm-1.17-cp310-cp310-linux_x86_64.whl size=808330 sha256=e26321afba349ca191a57362f68c3a9fc65b99b7ef18ee98f4c63347a7d4540b\n",
            "  Stored in directory: /root/.cache/pip/wheels/4f/9b/7e/0b256f2168511d8fa4dae4fae0200fdbd729eb424a912ad636\n",
            "Successfully built lightfm\n",
            "Installing collected packages: lightfm\n",
            "Successfully installed lightfm-1.17\n"
          ]
        }
      ],
      "source": [
        "pip install lightfm\n"
      ]
    },
    {
      "cell_type": "code",
      "source": [
        "from lightfm import LightFM\n",
        "import numpy as np\n",
        "\n",
        "products_data = {\n",
        "    'product_id': [1, 2, 3, 4],\n",
        "    'product_name': ['tote bag', 'brown handbag', 'black leather bag', 'cross bag'],\n",
        "    'features': ['Feature1 Feature2', 'Feature2 Feature3', 'Feature1 Feature3', 'Feature4'],\n",
        "}\n",
        "\n",
        "user_data = {\n",
        "    'user_id': [1, 2, 3],\n",
        "    'interactions': ['1 2', '2 3', '1 4'],\n",
        "}\n",
        "\n",
        "from lightfm.data import Dataset\n",
        "dataset = Dataset()\n",
        "dataset.fit(user_data['user_id'], products_data['product_id'])\n",
        "(interactions, weights) = dataset.build_interactions([(user, product) for user in user_data['user_id'] for product in products_data['product_id'] if str(user) in user_data['interactions']])\n",
        "\n",
        "model = LightFM(loss='warp', random_state=42)\n",
        "model = model.fit(interactions, epochs=30)\n",
        "\n",
        "def recommend_products(user_id, model, products_data, dataset):\n",
        "    n_users, n_items = dataset.interactions_shape()\n",
        "\n",
        "    scores = model.predict(user_id, np.arange(n_items))\n",
        "    top_items = np.argsort(-scores)\n",
        "\n",
        "    recommended_products = []\n",
        "    for i in top_items:\n",
        "        product_name = products_data['product_name'][i]\n",
        "        recommended_products.append(product_name)\n",
        "\n",
        "    return recommended_products\n",
        "\n",
        "\n",
        "user_id = 1\n",
        "recommended_products = recommend_products(user_id, model, products_data, dataset)\n",
        "print(f\"Recommended products for user {user_id}:\")\n",
        "for i, product_name in enumerate(recommended_products):\n",
        "    print(f\"{i + 1}. {product_name}\")\n"
      ],
      "metadata": {
        "colab": {
          "base_uri": "https://localhost:8080/"
        },
        "id": "N5lMg4_UB2yL",
        "outputId": "2d7d2568-807b-40e6-9377-ec3c7f96bb37"
      },
      "execution_count": 10,
      "outputs": [
        {
          "output_type": "stream",
          "name": "stdout",
          "text": [
            "Recommended products for user 1:\n",
            "1. cross bag\n",
            "2. black leather bag\n",
            "3. tote bag\n",
            "4. brown handbag\n"
          ]
        }
      ]
    },
    {
      "cell_type": "code",
      "source": [],
      "metadata": {
        "id": "iJBs3PRnCsJL"
      },
      "execution_count": null,
      "outputs": []
    }
  ]
}